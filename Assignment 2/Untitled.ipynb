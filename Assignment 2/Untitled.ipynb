{
 "cells": [
  {
   "cell_type": "code",
   "execution_count": 1,
   "id": "7fd9044d-31f3-49db-9ba6-eef6fa789e51",
   "metadata": {},
   "outputs": [],
   "source": [
    "import mysql.connector\n",
    "from mysql.connector import errorcode"
   ]
  },
  {
   "cell_type": "code",
   "execution_count": 33,
   "id": "0a546bf2-1afb-4e99-90b0-dd24f3b09cce",
   "metadata": {},
   "outputs": [
    {
     "name": "stdout",
     "output_type": "stream",
     "text": [
      "(1, 1, 'jeans', 30.0, 3.1, 1)\n",
      "(2, 1, 'jeans', 30.0, 4.0, 2)\n",
      "(3, 1, 'jeans', 40.0, 4.5, 1)\n",
      "(4, 1, 'hoodie', 30.0, 4.0, 1)\n",
      "(5, 1, 'hoodie', 35.0, 4.5, 1)\n",
      "(6, 1, 'shirt', 25.0, 4.0, 2)\n",
      "(7, 1, 'shirt', 30.0, 4.5, 3)\n",
      "(8, 2, 'dal', 10.0, 3.8, 4)\n",
      "(9, 2, 'dal', 20.0, 4.5, 5)\n",
      "(10, 2, 'cookie', 5.0, 4.0, 4)\n",
      "(11, 2, 'cookie', 8.0, 4.6, 6)\n",
      "(12, 2, 'cookie', 5.0, 4.6, 5)\n",
      "(13, 3, 'phone', 400.0, 4.6, 7)\n",
      "(14, 3, 'phone', 600.0, 4.7, 8)\n",
      "(15, 3, 'headphone', 100.0, 3.8, 8)\n",
      "(16, 3, 'headphone', 150.0, 4.2, 9)\n"
     ]
    }
   ],
   "source": [
    "\n",
    "cnx = mysql.connector.connect(user='root', password='khadga19@mysql',\n",
    "                              host='localhost',database = 'shopping')\n",
    "import datetime\n",
    "# import mysql.connector\n",
    "\n",
    "# cnx = mysql.connector.connect(user='scott', database='employees')\n",
    "cursor = cnx.cursor()\n",
    "\n",
    "query = (\"select * from products\")\n",
    "\n",
    "# hire_start = datetime.date(1999, 1, 1)\n",
    "# hire_end = datetime.date(1999, 12, 31)\n",
    "\n",
    "cursor.execute(query)\n",
    "col = cursor.column_names\n",
    "# for (first_name, last_name, hire_date) in cursor:\n",
    "#   print(\"{}, {} was hired on {:%d %b %Y}\".format(\n",
    "#     last_name, first_name, hire_date))\n",
    "for col in cursor:\n",
    "    print(col)\n",
    "# print()\n",
    "cursor.close()\n",
    "cnx.close()\n"
   ]
  },
  {
   "cell_type": "code",
   "execution_count": 3,
   "id": "4fdf854c-892f-40ff-a057-33d0a9843b47",
   "metadata": {},
   "outputs": [
    {
     "ename": "SyntaxError",
     "evalue": "invalid syntax (4173974959.py, line 8)",
     "output_type": "error",
     "traceback": [
      "\u001b[1;36m  Input \u001b[1;32mIn [3]\u001b[1;36m\u001b[0m\n\u001b[1;33m    (**config)\u001b[0m\n\u001b[1;37m     ^\u001b[0m\n\u001b[1;31mSyntaxError\u001b[0m\u001b[1;31m:\u001b[0m invalid syntax\n"
     ]
    }
   ],
   "source": [
    "config = {\n",
    "  'user': 'scott',\n",
    "  'password': 'password',\n",
    "  'host': '127.0.0.1',\n",
    "  'database': 'employees',\n",
    "  'raise_on_warnings': True\n",
    "}\n",
    "(**config)"
   ]
  },
  {
   "cell_type": "code",
   "execution_count": 8,
   "id": "2d44feeb-f7aa-4da8-b89d-7bb8ac69950e",
   "metadata": {},
   "outputs": [
    {
     "ename": "TypeError",
     "evalue": "cannot unpack non-iterable int object",
     "output_type": "error",
     "traceback": [
      "\u001b[1;31m---------------------------------------------------------------------------\u001b[0m",
      "\u001b[1;31mTypeError\u001b[0m                                 Traceback (most recent call last)",
      "Input \u001b[1;32mIn [8]\u001b[0m, in \u001b[0;36m<cell line: 1>\u001b[1;34m()\u001b[0m\n\u001b[1;32m----> 1\u001b[0m \u001b[38;5;28;01mfor\u001b[39;00m (x,\u001b[38;5;241m*\u001b[39my,z) \u001b[38;5;129;01min\u001b[39;00m [\u001b[38;5;241m1\u001b[39m,\u001b[38;5;241m2\u001b[39m,\u001b[38;5;241m3\u001b[39m,\u001b[38;5;241m4\u001b[39m,\u001b[38;5;241m4\u001b[39m]:\u001b[38;5;28mprint\u001b[39m(x,y,z)\n",
      "\u001b[1;31mTypeError\u001b[0m: cannot unpack non-iterable int object"
     ]
    }
   ],
   "source": [
    "for (x,*y,z) in [(1,2,3,4,4)]:print(x,y,z)"
   ]
  },
  {
   "cell_type": "code",
   "execution_count": 87,
   "id": "a675db9d-bbfd-42b6-89b6-1b412708a5c3",
   "metadata": {},
   "outputs": [
    {
     "name": "stdout",
     "output_type": "stream",
     "text": [
      "1\n",
      "(1, 1, 'jeans', 30.0, 3.1, 1)\n",
      "(2, 1, 'jeans', 30.0, 4.0, 2)\n",
      "(3, 1, 'jeans', 40.0, 4.5, 1)\n",
      "(4, 1, 'hoodie', 30.0, 4.0, 1)\n",
      "(5, 1, 'hoodie', 35.0, 4.5, 1)\n",
      "(6, 1, 'shirt', 25.0, 4.0, 2)\n",
      "(7, 1, 'shirt', 30.0, 4.5, 3)\n",
      "(8, 2, 'dal', 10.0, 3.8, 4)\n",
      "(9, 2, 'dal', 20.0, 4.5, 5)\n",
      "(10, 2, 'cookie', 5.0, 4.0, 4)\n",
      "(11, 2, 'cookie', 8.0, 4.6, 6)\n",
      "(12, 2, 'cookie', 5.0, 4.6, 5)\n",
      "(13, 3, 'phone', 400.0, 4.6, 7)\n",
      "(14, 3, 'phone', 600.0, 4.7, 8)\n",
      "(15, 3, 'headphone', 100.0, 3.8, 8)\n",
      "(16, 3, 'headphone', 150.0, 4.2, 9)\n"
     ]
    }
   ],
   "source": [
    "import mysql.connector\n",
    "\n",
    "config = {\n",
    "  'user': 'root',\n",
    "  'password': 'khadga19@mysql',\n",
    "  'host': '127.0.0.1',\n",
    "  'database': None,\n",
    "  'raise_on_warnings': True\n",
    "}\n",
    "\n",
    "cnx = mysql.connector.connect(**config)\n",
    "print(1)\n",
    "\n",
    "cursor = cnx.cursor()\n",
    "cnx.database = 'shopping'\n",
    "\n",
    "query = (\"select * from products\")\n",
    "\n",
    "\n",
    "\n",
    "cursor.execute(query)\n",
    "col = cursor.column_names\n",
    "\n",
    "for col in cursor:\n",
    "    print(col)\n",
    "\n",
    "cnx.close()"
   ]
  },
  {
   "cell_type": "code",
   "execution_count": 40,
   "id": "227c963b-f196-493a-a786-5c4b45e996af",
   "metadata": {},
   "outputs": [
    {
     "name": "stdin",
     "output_type": "stream",
     "text": [
      "use me y\n"
     ]
    },
    {
     "name": "stdout",
     "output_type": "stream",
     "text": [
      "OK\n",
      "(1, 1, 'jeans', 30.0, 3.1, 1)\n",
      "(2, 1, 'jeans', 30.0, 4.0, 2)\n",
      "(3, 1, 'jeans', 40.0, 4.5, 1)\n",
      "(4, 1, 'hoodie', 30.0, 4.0, 1)\n",
      "(5, 1, 'hoodie', 35.0, 4.5, 1)\n",
      "(6, 1, 'shirt', 25.0, 4.0, 2)\n",
      "(7, 1, 'shirt', 30.0, 4.5, 3)\n",
      "(8, 2, 'dal', 10.0, 3.8, 4)\n",
      "(9, 2, 'dal', 20.0, 4.5, 5)\n",
      "(10, 2, 'cookie', 5.0, 4.0, 4)\n",
      "(11, 2, 'cookie', 8.0, 4.6, 6)\n",
      "(12, 2, 'cookie', 5.0, 4.6, 5)\n",
      "(13, 3, 'phone', 400.0, 4.6, 7)\n",
      "(14, 3, 'phone', 600.0, 4.7, 8)\n",
      "(15, 3, 'headphone', 100.0, 3.8, 8)\n",
      "(16, 3, 'headphone', 150.0, 4.2, 9)\n",
      "col ('p_id', 'cat_id', 'p_name', 'p_price', 'p_rating', 'seller_id')\n"
     ]
    }
   ],
   "source": [
    "def Connection():\n",
    "    Config = str(input('use me'))\n",
    "    config = {\n",
    "      'user': 'root',\n",
    "      'password': 'khadga19@mysql',\n",
    "      'host': '127.0.0.1',\n",
    "      'database': None,\n",
    "      'raise_on_warnings': True\n",
    "    }\n",
    "    if not config:\n",
    "        user = str(input('User:'))\n",
    "        password = str(input('passward'))\n",
    "        host = str(input('host'))\n",
    "        database = str(input('Database'))\n",
    "        print('hey')\n",
    "        config = {\n",
    "            'user': user,\n",
    "            'password': password,\n",
    "            'host': host,\n",
    "            'database': None if not database else database,\n",
    "            'raise_on_warnings': True\n",
    "        }\n",
    "    cnx = mysql.connector.connect(**config)\n",
    "    \n",
    "    print('OK')\n",
    "\n",
    "    cursor = cnx.cursor()\n",
    "    cnx.database = 'shopping'\n",
    "\n",
    "    query = (\"select * from products\")\n",
    "    \n",
    "\n",
    "\n",
    "    cursor.execute(query)\n",
    "    col = cursor.column_names\n",
    "\n",
    "    for col in cursor:\n",
    "        print(col)\n",
    "    print(f'col {cursor.column_names}')\n",
    "    cnx.close()\n",
    "\n",
    "Connection()        # Connect()"
   ]
  },
  {
   "cell_type": "code",
   "execution_count": 41,
   "id": "7ab59e44-c746-427a-ba26-e642d54d3725",
   "metadata": {},
   "outputs": [
    {
     "name": "stdin",
     "output_type": "stream",
     "text": [
      "use me y\n"
     ]
    },
    {
     "name": "stdout",
     "output_type": "stream",
     "text": [
      "OK\n",
      "Already exists\n"
     ]
    }
   ],
   "source": [
    "from mysql.connector import errorcode\n",
    "class Connection():\n",
    "    def __init__(self):\n",
    "        self.Config = str(input('use me'))\n",
    "        self.config = {\n",
    "          'user': 'root',\n",
    "          'password': 'khadga19@mysql',\n",
    "          'host': '127.0.0.1',\n",
    "          'database': None,\n",
    "          'raise_on_warnings': True\n",
    "        }\n",
    "        if not self.config:\n",
    "            user = str(input('User:'))\n",
    "            password = str(input('passward'))\n",
    "            host = str(input('host'))\n",
    "            database = str(input('Database'))\n",
    "            print('hey')\n",
    "            config = {\n",
    "                'user': user,\n",
    "                'password': password,\n",
    "                'host': host,\n",
    "                'database': None if not database else database,\n",
    "                'raise_on_warnings': True\n",
    "            }\n",
    "        self.cnx = mysql.connector.connect(**self.config)\n",
    "\n",
    "        print('OK')\n",
    "\n",
    "        self.cursor = self.cnx.cursor()\n",
    "#     cnx.database = 'shopping'\n",
    "\n",
    "#     query = (\"select * from products\")\n",
    "    \n",
    "    \n",
    "\n",
    "\n",
    "#     cursor.execute(query)\n",
    "#     col = cursor.column_names\n",
    "\n",
    "#     for col in cursor:\n",
    "#         print(col)\n",
    "    \n",
    "    \n",
    "    def CREATE(self,database='test1',table = None,columns = None,adv_query=None):\n",
    "#         self.database = database\n",
    "#         self.table = table\n",
    "#         self.columns = columns\n",
    "#         self.adv_query = adv_query\n",
    "        if database is not None:\n",
    "            query = f'Create database {database};'\n",
    "        try:\n",
    "            self.cursor.execute(query)\n",
    "        except mysql.connector.Error as err:\n",
    "            if err.errno == errorcode.ER_DB_CREATE_EXISTS:\n",
    "                print('Already exists')\n",
    "        self.cnx.close()\n",
    "Connection().CREATE()        # Connect()"
   ]
  },
  {
   "cell_type": "code",
   "execution_count": 56,
   "id": "b197a165-0b79-4a77-9c48-59ef01c3228c",
   "metadata": {},
   "outputs": [
    {
     "name": "stdout",
     "output_type": "stream",
     "text": [
      "The lab_black extension is already loaded. To reload it, use:\n",
      "  %reload_ext lab_black\n"
     ]
    }
   ],
   "source": [
    "%load_ext lab_black"
   ]
  },
  {
   "cell_type": "code",
   "execution_count": null,
   "id": "37cf6c88-f370-44c3-ab17-34420cf0edd6",
   "metadata": {},
   "outputs": [],
   "source": [
    "Connections().NOTNULL()"
   ]
  },
  {
   "cell_type": "code",
   "execution_count": 77,
   "id": "69f2e6e0-43a3-4169-ba7d-022cf3860ac7",
   "metadata": {},
   "outputs": [
    {
     "name": "stdout",
     "output_type": "stream",
     "text": [
      "OK\n"
     ]
    },
    {
     "data": {
      "text/plain": [
       "<__main__.Connections at 0x1dde15acc10>"
      ]
     },
     "execution_count": 77,
     "metadata": {},
     "output_type": "execute_result"
    }
   ],
   "source": [
    "import mysql.connector\n",
    "from mysql.connector import errorcode\n",
    "\n",
    "\n",
    "class Connections:\n",
    "    \"\"\"You can either supply the configuration dictionary for MySQL access or you can give the details\n",
    "    To get a config file use function 'get_config'\n",
    "    config = {\n",
    "                    \"user\": user_name (e.g \"root\"),\n",
    "                    \"password\": your password,\n",
    "                    \"host\": \"localhost\" ,\n",
    "                    \"database\": None,\n",
    "                    \"raise_on_warnings\": True}\"\"\"\n",
    "\n",
    "    def __init__(self, config: dict = None):\n",
    "        if config is not None:\n",
    "            self.config = config\n",
    "        else:\n",
    "            user = str(input(\"use default (root@localhost)(Y/N): \"))\n",
    "            if user.lower() in [\"y\", \"yes\"]:\n",
    "                self.config = {\n",
    "                    \"user\": \"root\",\n",
    "                    \"password\": str(input(\"root password: \")),\n",
    "                    \"host\": \"localhost\",\n",
    "                    \"database\": None,\n",
    "                    \"raise_on_warnings\": True,\n",
    "                }\n",
    "            else:\n",
    "                self.config = {\n",
    "                    \"user\": str(input(\"user: \")),\n",
    "                    \"password\": str(input(\"user password: \")),\n",
    "                    \"host\": \"localhost\"\n",
    "                    if (host := str(input('host (\"l\" for localhost): '))) == \"l\"\n",
    "                    else host,\n",
    "                    \"database\": None,\n",
    "                    \"raise_on_warnings\": True,\n",
    "                }\n",
    "        self.cnx = mysql.connector.connect(**self.config)\n",
    "\n",
    "        print(\"OK\")\n",
    "\n",
    "        self.cursor = self.cnx.cursor(buffered=True)\n",
    "\n",
    "    def get_config(self):\n",
    "        \"\"\"Returns a dictionary config file of the current configuration\n",
    "        example:\n",
    "            config = {\n",
    "                    \"user\": \"root\",\n",
    "                    \"password\": 123,\n",
    "                    \"host\": \"localhost\" ,\n",
    "                    \"database\": None,\n",
    "                    \"raise_on_warnings\": True}\"\"\"\n",
    "        return self.config\n",
    "\n",
    "    def GODMODE(self, passthrough, database=None):\n",
    "        \"\"\"Pass any query which can be passed to mysql console\"\"\"\n",
    "        if database is not None:\n",
    "            self.cnx.database = database\n",
    "        try:\n",
    "            self.cursor.execute(passthrough)\n",
    "            print(\"executed\")\n",
    "        except mysql.connector.Error as err:\n",
    "            print(err)\n",
    "        self.cnx.commit()\n",
    "\n",
    "        return self.cursor.fetchall()\n",
    "        self.cnx.close()\n",
    "\n",
    "    def create_db(self, database):\n",
    "        \"\"\"Function to create a database\"\"\"\n",
    "        query = f\"Create database {database};\"\n",
    "        print(f\"{query}\")\n",
    "        try:\n",
    "            self.cursor.execute(query)\n",
    "            print(\"executed\")\n",
    "            self.cursor.execute(f\"use {database};\")\n",
    "        except mysql.connector.Error as err:\n",
    "            print(err)\n",
    "            if err.errno == errorcode.ER_DB_CREATE_EXISTS:\n",
    "                print(\"Already exists\")\n",
    "        self.cnx.database = database\n",
    "\n",
    "    def CREATE(self, database=None, table=None, columns=None, passthrough=None):\n",
    "        \"\"\"General Purpose CREATE operation\n",
    "        example:\n",
    "            CREATE(database = \"Classes\",table = \"Courses\",columns = {'course_name':'varchar(25)','Course_id':'varchar(7)'})\n",
    "\n",
    "        \"\"\"\n",
    "        if database is not None:\n",
    "            self.create_db(database)\n",
    "        if table is not None:\n",
    "            if self.cnx.database == None:\n",
    "                print(\"No database Selected\")\n",
    "                database = str(input(\"select or create database :\"))\n",
    "                create_db(self, database)\n",
    "            self.cursor.execute(f\"show tables;\")\n",
    "            c = self.cursor.fetchall()\n",
    "            t = []\n",
    "            for x in c:\n",
    "                #                 print(x)\n",
    "                if x[0] == table.lower():\n",
    "                    print(\"table already exists\")\n",
    "                    return None\n",
    "\n",
    "            if columns == None:\n",
    "                columns = {}\n",
    "                print(\"TO create a table atleast 1 column is necessary\")\n",
    "                i = 1\n",
    "                while True:\n",
    "                    key = str(input(f\"Column {i} Name :\"))\n",
    "                    if key == \"\":\n",
    "                        break\n",
    "                    value = str(input(f\"Column {i} constraint :\"))\n",
    "                    while value == \"\":\n",
    "                        print(\"Constraint is necessary\")\n",
    "                        value = str(input(f\"Column {i} constraint :\"))\n",
    "\n",
    "                    columns[key] = value\n",
    "                    i += 1\n",
    "            if columns is not None:\n",
    "                col = \"\"\n",
    "                for key in columns.keys():\n",
    "                    col = col + f\"{key} {columns[key]},\"\n",
    "                col = col[:-1]\n",
    "            query = f\"Create table {table}({col});\"\n",
    "            print(f\"{query}\")\n",
    "            try:\n",
    "                self.cursor.execute(query)\n",
    "                print(\"executed\")\n",
    "            except mysql.connector.Error as err:\n",
    "                print(err)\n",
    "                if err.errno == errorcode.ER_TABLE_EXISTS_ERROR:\n",
    "                    print(\"Already exists\")\n",
    "        self.cnx.close()\n",
    "\n",
    "    def drop_table(self, database, table):\n",
    "        \"\"\"DROP a particular table from a database\"\"\"\n",
    "        query = f\"DROP table {table};\"\n",
    "        print(f\"{query}\")\n",
    "        try:\n",
    "            self.cnx.database = database\n",
    "            self.cursor.execute(query)\n",
    "            print(\"executed\")\n",
    "\n",
    "        except mysql.connector.Error as err:\n",
    "            print(err)\n",
    "            if err.errno == errorcode.ER_TABLE_NAME:\n",
    "                print(\"Database doesnt exists\")\n",
    "\n",
    "    def DROP(self, database, table=None, passthrough=None):\n",
    "        \"\"\"General purpose DROP Operation\"\"\"\n",
    "        if passthrough is not None:\n",
    "            self.GODMODE(passthrough, database=database)\n",
    "        else:\n",
    "            if table is not None:\n",
    "\n",
    "                self.drop_table(database=database, table=table)\n",
    "                return None\n",
    "            query = f\"DROP database {database};\"\n",
    "            print(f\"{query}\")\n",
    "            try:\n",
    "                self.cursor.execute(query)\n",
    "                print(\"executed\")\n",
    "\n",
    "            except mysql.connector.Error as err:\n",
    "                print(err)\n",
    "                if err.errno == errorcode.ER_DB_DROP_EXISTS:\n",
    "                    print(\"Database doesnt exists\")\n",
    "\n",
    "        self.cnx.close()\n",
    "\n",
    "    def ALTER_TABLE(\n",
    "        self, database, table=None, columns=None, modifier=None, passthrough=None\n",
    "    ):\n",
    "        \"\"\"GENERAL Purpose ALTER TABLE Operation\"\"\"\n",
    "        if passthrough is not None:\n",
    "            self.GODMODE(passthrough, database=database)\n",
    "        else:\n",
    "            query = f\"ALTER TABLE {table}\"\n",
    "            self.cnx.database = database\n",
    "            if type(columns) == dict:\n",
    "                col = \"\"\n",
    "                for key in columns.keys():\n",
    "                    col = col + f\" {modifier} {key} {columns[key]},\"\n",
    "                col = col[:-1]\n",
    "\n",
    "            elif type(columns) == list or type(columns) == tuple:\n",
    "                col = \"\"\n",
    "                for key in columns:\n",
    "                    col = col + f\" {modifier} {key},\"\n",
    "                col = col[:-1]\n",
    "            else:\n",
    "                col = f\" {modifier} {columns};\"\n",
    "            query = query + col\n",
    "            print(f\"{query}\")\n",
    "            try:\n",
    "                self.cursor.execute(query)\n",
    "                print(\"executed\")\n",
    "\n",
    "            except mysql.connector.Error as err:\n",
    "                print(err)\n",
    "\n",
    "            self.cnx.close()\n",
    "\n",
    "    def SELECT(self, database, query=None):\n",
    "        \"\"\"General Purpose SELECT Operation\n",
    "        example:\n",
    "            SELECT(database  = 'Classes', query = 'Select * from courses where course_name = \"DBMS\"')\"\"\"\n",
    "        self.cnx.database = database\n",
    "        print(f\"{query}\")\n",
    "        try:\n",
    "            self.cursor.execute(query)\n",
    "            print(\"executed\")\n",
    "            col = self.cursor.column_names\n",
    "\n",
    "            for col in self.cursor:\n",
    "                print(col)\n",
    "\n",
    "        except mysql.connector.Error as err:\n",
    "            print(err)\n",
    "        self.cnx.close()\n",
    "\n",
    "    def INSERT(self, database, table=None, values=None, passthrough=None):\n",
    "        \"\"\"General Purpose INSERT Operation\n",
    "        example:\n",
    "            INSERT(database = \"Classes\",table = 'Courses',values = (('DSML',),(ALGORITHMS,)))\"\"\"\n",
    "        if passthrough is not None:\n",
    "            self.GODMODE(passthrough, database=database)\n",
    "        else:\n",
    "            self.cnx.database = database\n",
    "\n",
    "            self.cursor.execute(f\"select * from {table} limit 1\")\n",
    "            col_names = self.cursor.column_names\n",
    "\n",
    "            col_name = \"\"\n",
    "            for cname in col_names:\n",
    "                col_name += f\" {cname},\"\n",
    "            print(col_name[0:-1])\n",
    "            query = f\"INSERT INTO {table} ({col_name[0:-1]}) VALUES \"\n",
    "            if any(isinstance(i, list) or isinstance(i, tuple) for i in values):\n",
    "                if len(values[0]) == 1:\n",
    "                    for val in values:\n",
    "                        query = query + f\"({val[0]}),\"\n",
    "                else:\n",
    "                    for val in values:\n",
    "                        query = query + f\"{val},\"\n",
    "\n",
    "            else:\n",
    "                if len(values) == 1:\n",
    "                    for val in values:\n",
    "                        query = query + f\"({val}),\"\n",
    "                else:\n",
    "                    query = query + f\"{values},\"\n",
    "\n",
    "            query = query[0:-1]\n",
    "            print(\"yes\", query)\n",
    "            try:\n",
    "                self.cursor.execute(query)\n",
    "                print(\"executed\")\n",
    "\n",
    "            except mysql.connector.Error as err:\n",
    "                print(err)\n",
    "\n",
    "        self.cnx.commit()\n",
    "        self.cnx.close()\n",
    "\n",
    "    def UPDATE(self, database, table=None, columns=None, where=None, passthrough=None):\n",
    "        \"\"\"UPDATE Operation\n",
    "        example:\n",
    "            UPDATE(database = 'Classes',table = 'Courses',columns = {'course_id':'DSE-302'},where = 'where course_name = \"DSML\"')\"\"\"\n",
    "        self.cnx.database = database\n",
    "        if passthrough is not None:\n",
    "            self.GODMODE(passthrough, database=database)\n",
    "        else:\n",
    "            query = f\"UPDATE {table} set \"\n",
    "            col = \"\"\n",
    "            for key in columns.keys():\n",
    "                col = col + f' {key} = \"{columns[key]}\",'\n",
    "            col = col[0:-1]\n",
    "            col = col + \" \" + where\n",
    "            query = query + col + \";\"\n",
    "            print(query)\n",
    "            try:\n",
    "                self.cursor.execute(query)\n",
    "                print(\"executed\")\n",
    "            except mysql.connector.Error as err:\n",
    "                print(err)\n",
    "        self.cnx.commit()\n",
    "        self.cnx.close()\n",
    "\n",
    "    def NOTNULL(self, database, table=None, columns=None, passthrough=None):\n",
    "        \"\"\"Make a column NOT NULL\n",
    "        example:\n",
    "            NOTNULL(database = \"Classes\",table = \"Courses\",columns = {'course_name':'varchar(30)','course_id':'varchar(7)'})\"\"\"\n",
    "        if passthrough is not None:\n",
    "            self.GODMODE(passthrough, database=database)\n",
    "        else:\n",
    "            for key in columns.keys():\n",
    "                columns[key] = f\"{columns[key]} NOT NULL\"\n",
    "            #             print(columns)a\n",
    "            self.ALTER_TABLE(\n",
    "                database, table, columns, modifier=\"modify\", passthrough=None\n",
    "            )\n",
    "        self.cnx.commit()\n",
    "        self.cnx.close()\n",
    "\n",
    "    def PRIMARY_KEY(\n",
    "        self, database, table=None, columns=None, constraint_name=None, passthrough=None\n",
    "    ):\n",
    "        \"\"\"Define a PRIMARY KEY\n",
    "        example:\n",
    "            PRIMARY_KEY(database = 'Classes',table = 'Courses',columns = ('course_id'))\"\"\"\n",
    "        if passthrough is not None:\n",
    "            self.GODMODE(passthrough, database=database)\n",
    "        else:\n",
    "\n",
    "            print(columns)\n",
    "            query = f\"ALTER TABLE {table} ADD \"\n",
    "            if constraint_name is not None:\n",
    "                query += f\"CONSTRAINT {constraint_name} \"\n",
    "            query += \"PRIMARY KEY (\"\n",
    "            if type(columns) == str:\n",
    "                query = query + f\"{columns})\"\n",
    "\n",
    "            else:\n",
    "                if len(columns) == 1:\n",
    "                    query = query + f\"{columns[0]}, \"\n",
    "                #                     print('here',query)\n",
    "                else:\n",
    "                    for col in columns:\n",
    "                        query = query + f\"{col}, \"\n",
    "                query = query[0:-2] + \")\"\n",
    "            print(query)\n",
    "            self.ALTER_TABLE(database, passthrough=query)\n",
    "\n",
    "    def FOREIGN_KEY(\n",
    "        self, database, table=None, columns=None, constraint_name=None, passthrough=None\n",
    "    ):\n",
    "        \"\"\"Define a FOREIGN KEY\n",
    "        example:\n",
    "            CREATE(database = \"instructor\",passthrough = 'CREATE table inst (inst_id int not null,course_id varchar(7), primary key (inst_id))\n",
    "            \\n\n",
    "            FOREIGN_KEY(database = \"instructor\",table = \"inst\", columns = {\"course_id\": \"varchar(7)\"}, constraint_name = \"cid_fkey\")\n",
    "        \"\"\"\n",
    "        if passthrough is not None:\n",
    "            self.GODMODE(passthrough, database=database)\n",
    "        else:\n",
    "            print(columns)\n",
    "            query = f\"ALTER TABLE {table}\"\n",
    "\n",
    "            #             query+='FOREIGN KEY ('\n",
    "            for key in columns.keys():\n",
    "                query += \" ADD\"\n",
    "                if constraint_name[key] is not None:\n",
    "                    query += f\" CONSTRAINT {constraint_name[key]}\"\n",
    "\n",
    "                query += \" FOREIGN KEY (\"\n",
    "                q = \"\"\n",
    "                if type(columns[key]) is not str:\n",
    "                    for val in columns[key]:\n",
    "                        q = q + f\"{val}, \"\n",
    "                    q = q[0:-2]\n",
    "                else:\n",
    "                    q = q + f\"{columns[key]}\"\n",
    "                print(q)\n",
    "                query = query + q + \") REFERENCES \"\n",
    "\n",
    "                query = query + f\"{key} ({q}), \"\n",
    "            query = query[0:-2]\n",
    "            print(query)\n",
    "            self.ALTER_TABLE(database, passthrough=query)\n",
    "\n",
    "    def new_user(self, user_name, user_pwd, ip=\"localhost\"):\n",
    "        query = f'CREATE USER {user_name}@{ip} IDENTIFIED BY \"{user_pwd}\";'\n",
    "        print(query)\n",
    "        self.GODMODE(passthrough=query)\n",
    "\n",
    "    def drop_user(self, user_name, ip=\"localhost\"):\n",
    "        query = f\"DROP USER\"\n",
    "        if type(user_name) is dict:\n",
    "            for name, ip in zip(user_name.keys(), user_name.values()):\n",
    "                query += f\" {name}@{ip}, \"\n",
    "            query = query[0:-2]\n",
    "        elif type(user_name) is not str:\n",
    "            for name in user_name:\n",
    "                query += f\" {name}@{ip}, \"\n",
    "            query = query[0:-2]\n",
    "        else:\n",
    "            query += f\" {user_name}@{ip}\"\n",
    "        print(query)\n",
    "        self.GODMODE(passthrough=query)\n",
    "\n",
    "    def grant_priv(\n",
    "        self, user_name, privlage=None, database=None, table=None, ip=\"localhost\"\n",
    "    ):\n",
    "        \"\"\"GRANT privlages to user@ip\n",
    "        privalge : ['ALL','SELECT','INSERT','UPDATE', ...]\n",
    "                    to see full list goto. (https://dev.mysql.com/doc/refman/8.0/en/privileges-provided.html)\"\"\"\n",
    "        priv = \", \".join(privlage) if type(privlage) is not str else privlage\n",
    "        database = \"*\" if database is None else database\n",
    "        table = \"*\" if table is None else table\n",
    "        query = f\"GRANT {priv} ON {database}.{table} TO {user_name}@{ip}\"\n",
    "        print(query)\n",
    "        self.GODMODE(passthrough=query)\n",
    "\n",
    "    def revoke_priv(\n",
    "        self, user_name, revoke=None, database=None, table=None, ip=\"localhost\"\n",
    "    ):\n",
    "        \"\"\"REVOKE privlage from user@ip\n",
    "        see (https://dev.mysql.com/doc/refman/8.0/en/privileges-provided.html) to find all privlages\"\"\"\n",
    "        rev = \", \".join(revoke) if type(revoke) is not str else revoke\n",
    "        database = \"*\" if database is None else database\n",
    "        table = \"*\" if table is None else table\n",
    "        query = f\"REVOKE {rev} ON {database}.{table} FROM {user_name}@{ip}\"\n",
    "        print(query)\n",
    "        self.GODMODE(passthrough=query)\n",
    "\n",
    "\n",
    "# Connections().connect().USERS().new_user('akj1','AKJ')\n",
    "cfg = {\n",
    "    \"user\": \"root\",\n",
    "    \"password\": \"khadga19@mysql\",\n",
    "    \"host\": \"localhost\",\n",
    "    \"database\": None,\n",
    "    \"raise_on_warnings\": True,\n",
    "}\n",
    "Connections(cfg)"
   ]
  },
  {
   "cell_type": "code",
   "execution_count": 32,
   "id": "02f3671e-9735-4085-8761-e6b8a1684688",
   "metadata": {},
   "outputs": [
    {
     "name": "stdout",
     "output_type": "stream",
     "text": [
      "INSERT INTO employees (first_name, last_name, hire_date, gender, birth_date) VALUES (Geert, Vanderkelen, tomorrow, M, 1977)\n"
     ]
    }
   ],
   "source": [
    "Connections.revoke_priv()\n",
    "add_employee = 'INSERT INTO employees (first_name, last_name, hire_date, gender, birth_date) VALUES (%s, %s, %s, %s, %s)'\n",
    "data_employee = ('Geert', 'Vanderkelen', 'tomorrow', 'M', 1977)\n",
    "print(add_employee%data_employee)"
   ]
  },
  {
   "cell_type": "code",
   "execution_count": 2,
   "id": "f4d5eb6a-9205-4489-a9dd-a540ac8ccfb5",
   "metadata": {},
   "outputs": [
    {
     "name": "stdin",
     "output_type": "stream",
     "text": [
      "use me y\n"
     ]
    },
    {
     "name": "stdout",
     "output_type": "stream",
     "text": [
      "OK\n"
     ]
    },
    {
     "data": {
      "text/plain": [
       "<__main__.Connections at 0x1e49c4fe370>"
      ]
     },
     "execution_count": 2,
     "metadata": {},
     "output_type": "execute_result"
    }
   ],
   "source": [
    "Connections()"
   ]
  },
  {
   "cell_type": "code",
   "execution_count": 132,
   "id": "c1098f9a-5354-4553-b063-c4d522f5c9f5",
   "metadata": {},
   "outputs": [
    {
     "name": "stdout",
     "output_type": "stream",
     "text": [
      "(1, 2)\n",
      "akj\n",
      "(3,)\n",
      "(5,)\n"
     ]
    },
    {
     "data": {
      "text/plain": [
       "False"
      ]
     },
     "execution_count": 132,
     "metadata": {},
     "output_type": "execute_result"
    }
   ],
   "source": [
    "a = [(1,2),('akj'),(3,),(5,)]\n",
    "for v in a: print(f'{v}')\n",
    "\n",
    "any(isinstance(i, tuple) or isinstance(i, list) for i in (1,))"
   ]
  },
  {
   "cell_type": "code",
   "execution_count": 20,
   "id": "26e1d946-ac85-4f2e-8721-6127319a8d47",
   "metadata": {},
   "outputs": [
    {
     "data": {
      "text/plain": [
       "'test4'"
      ]
     },
     "execution_count": 20,
     "metadata": {},
     "output_type": "execute_result"
    }
   ],
   "source": [
    "', '.join(('test4',))"
   ]
  },
  {
   "cell_type": "code",
   "execution_count": 37,
   "id": "956a17fb-7b93-42d0-8fb0-77492d4c2130",
   "metadata": {},
   "outputs": [
    {
     "name": "stdout",
     "output_type": "stream",
     "text": [
      "id ('test4', 'akj')\n",
      "a b\n"
     ]
    }
   ],
   "source": [
    "a = {'id':('test4','akj'),'a':'b'}\n",
    "for key,val in zip(a.keys(),a.values()):\n",
    "    print(key,val)"
   ]
  },
  {
   "cell_type": "code",
   "execution_count": 51,
   "id": "d0caaf10-9305-47aa-831d-9d890def70e0",
   "metadata": {},
   "outputs": [
    {
     "name": "stdout",
     "output_type": "stream",
     "text": [
      "4\n"
     ]
    }
   ],
   "source": [
    "def isa(y):\n",
    "    return y \n",
    "print(x) if (x := isa(4)) else None\n"
   ]
  },
  {
   "cell_type": "code",
   "execution_count": 1,
   "id": "f95fdd84-7ac4-4a96-832e-ca800f27bbaf",
   "metadata": {},
   "outputs": [
    {
     "name": "stdout",
     "output_type": "stream",
     "text": [
      "3.8.8\n"
     ]
    }
   ],
   "source": [
    "from platform import python_version\n",
    "\n",
    "print(python_version())"
   ]
  },
  {
   "cell_type": "code",
   "execution_count": 4,
   "id": "69f367c8-82fd-488b-9cfd-c71f25d5eed8",
   "metadata": {},
   "outputs": [
    {
     "name": "stdin",
     "output_type": "stream",
     "text": [
      "use default (root@localhost)(Y/N):  y\n",
      "root password:  khadga19@mysql\n"
     ]
    },
    {
     "name": "stdout",
     "output_type": "stream",
     "text": [
      "OK\n"
     ]
    }
   ],
   "source": [
    "%run untitled.py SELECT()"
   ]
  },
  {
   "cell_type": "code",
   "execution_count": null,
   "id": "24f8cdc3-5c51-4a30-9124-cfd9bb697e86",
   "metadata": {},
   "outputs": [],
   "source": []
  }
 ],
 "metadata": {
  "kernelspec": {
   "display_name": "Python 3 (ipykernel)",
   "language": "python",
   "name": "python3"
  },
  "language_info": {
   "codemirror_mode": {
    "name": "ipython",
    "version": 3
   },
   "file_extension": ".py",
   "mimetype": "text/x-python",
   "name": "python",
   "nbconvert_exporter": "python",
   "pygments_lexer": "ipython3",
   "version": "3.8.8"
  }
 },
 "nbformat": 4,
 "nbformat_minor": 5
}
