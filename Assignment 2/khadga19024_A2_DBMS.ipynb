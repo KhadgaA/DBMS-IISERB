{
 "cells": [
  {
   "cell_type": "code",
   "execution_count": 1,
   "id": "4c672ecd-07ab-4c7b-ac68-4ac6a394918e",
   "metadata": {},
   "outputs": [],
   "source": [
    "import mysql.connector\n",
    "from mysql.connector import errorcode\n",
    "\n",
    "\n",
    "class Connections:\n",
    "    \"\"\"You can either supply the configuration dictionary for MySQL access or you can give the details\n",
    "    To get a config file use function 'get_config'\n",
    "    config = {\n",
    "                    \"user\": user_name (e.g \"root\"),\n",
    "                    \"password\": your password,\n",
    "                    \"host\": \"localhost\" ,\n",
    "                    \"database\": None,\n",
    "                    \"raise_on_warnings\": True}\"\"\"\n",
    "\n",
    "    def __init__(self, config: dict = None):\n",
    "        if config is not None:\n",
    "            self.config = config\n",
    "        else:\n",
    "            user = str(input(\"use default (root@localhost)(Y/N): \"))\n",
    "            if user.lower() in [\"y\", \"yes\"]:\n",
    "                self.config = {\n",
    "                    \"user\": \"root\",\n",
    "                    \"password\": str(input(\"root password: \")),\n",
    "                    \"host\": \"localhost\",\n",
    "                    \"database\": None,\n",
    "                    \"raise_on_warnings\": True,\n",
    "                }\n",
    "            else:\n",
    "                self.config = {\n",
    "                    \"user\": str(input(\"user: \")),\n",
    "                    \"password\": str(input(\"user password: \")),\n",
    "                    \"host\": \"localhost\"\n",
    "                    if (host := str(input('host (\"l\" for localhost): '))) == \"l\"\n",
    "                    else host,\n",
    "                    \"database\": None,\n",
    "                    \"raise_on_warnings\": True,\n",
    "                }\n",
    "        self.cnx = mysql.connector.connect(**self.config)\n",
    "        \n",
    "        print(\"OK\")\n",
    "\n",
    "        self.cursor = self.cnx.cursor(buffered=True)\n",
    "\n",
    "    def get_config(self):\n",
    "        \"\"\"Returns a dictionary config file of the current configuration\n",
    "        example:\n",
    "            config = {\n",
    "                    \"user\": \"root\",\n",
    "                    \"password\": 123,\n",
    "                    \"host\": \"localhost\" ,\n",
    "                    \"database\": None,\n",
    "                    \"raise_on_warnings\": True}\"\"\"\n",
    "        return self.config\n",
    "\n",
    "    def GODMODE(self, passthrough, database=None):\n",
    "        \"\"\"Pass any query which can be passed to mysql console\"\"\"\n",
    "        if database is not None:\n",
    "            self.cnx.database = database\n",
    "        try:\n",
    "            self.cursor.execute(passthrough)\n",
    "            print(\"executed\")\n",
    "        except mysql.connector.Error as err:\n",
    "            print(err)\n",
    "        self.cnx.commit()\n",
    "\n",
    "        try:\n",
    "            return self.cursor.fetchall()\n",
    "        except Exception as e:\n",
    "            pass\n",
    "#         self.cnx.close()\n",
    "\n",
    "    def create_db(self, database):\n",
    "        \"\"\"Function to create a database\"\"\"\n",
    "        query = f\"Create database {database};\"\n",
    "        print(f\"{query}\")\n",
    "        try:\n",
    "            self.cursor.execute(query)\n",
    "            print(\"executed\")\n",
    "            self.cursor.execute(f\"use {database};\")\n",
    "        except mysql.connector.Error as err:\n",
    "            print(err)\n",
    "            if err.errno == errorcode.ER_DB_CREATE_EXISTS:\n",
    "                print(\"Already exists\")\n",
    "        self.cnx.database = database\n",
    "\n",
    "    def CREATE(self, database=None, table=None, columns=None, passthrough=None):\n",
    "        \"\"\"General Purpose CREATE operation\n",
    "        example:\n",
    "            CREATE(database = \"Classes\",table = \"Courses\",columns = {'course_name':'varchar(25)','Course_id':'varchar(7)'})\n",
    "\n",
    "        \"\"\"\n",
    "        if database is not None:\n",
    "            self.create_db(database)\n",
    "        if table is not None:\n",
    "            if self.cnx.database == None:\n",
    "                print(\"No database Selected\")\n",
    "                database = str(input(\"select or create database :\"))\n",
    "                create_db(self, database)\n",
    "            self.cursor.execute(f\"show tables;\")\n",
    "            c = self.cursor.fetchall()\n",
    "            t = []\n",
    "            for x in c:\n",
    "                #                 print(x)\n",
    "                if x[0] == table.lower():\n",
    "                    print(\"table already exists\")\n",
    "                    return None\n",
    "\n",
    "            if columns == None:\n",
    "                columns = {}\n",
    "                print(\"TO create a table atleast 1 column is necessary\")\n",
    "                i = 1\n",
    "                while True:\n",
    "                    key = str(input(f\"Column {i} Name :\"))\n",
    "                    if key == \"\":\n",
    "                        break\n",
    "                    value = str(input(f\"Column {i} constraint :\"))\n",
    "                    while value == \"\":\n",
    "                        print(\"Constraint is necessary\")\n",
    "                        value = str(input(f\"Column {i} constraint :\"))\n",
    "\n",
    "                    columns[key] = value\n",
    "                    i += 1\n",
    "            if columns is not None:\n",
    "                col = \"\"\n",
    "                for key in columns.keys():\n",
    "                    col = col + f\"{key} {columns[key]},\"\n",
    "                col = col[:-1]\n",
    "            query = f\"Create table {table}({col});\"\n",
    "            print(f\"{query}\")\n",
    "            try:\n",
    "                self.cursor.execute(query)\n",
    "                print(\"executed\")\n",
    "            except mysql.connector.Error as err:\n",
    "                print(err)\n",
    "                if err.errno == errorcode.ER_TABLE_EXISTS_ERROR:\n",
    "                    print(\"Already exists\")\n",
    "#         self.cnx.close()\n",
    "\n",
    "    def drop_table(self, database, table):\n",
    "        \"\"\"DROP a particular table from a database\"\"\"\n",
    "        query = f\"DROP table {table};\"\n",
    "        print(f\"{query}\")\n",
    "        try:\n",
    "            self.cnx.database = database\n",
    "            self.cursor.execute(query)\n",
    "            print(\"executed\")\n",
    "\n",
    "        except mysql.connector.Error as err:\n",
    "            print(err)\n",
    "            if err.errno == errorcode.ER_TABLE_NAME:\n",
    "                print(\"Database doesnt exists\")\n",
    "\n",
    "    def DROP(self, database, table=None, passthrough=None):\n",
    "        \"\"\"General purpose DROP Operation\"\"\"\n",
    "        if passthrough is not None:\n",
    "            self.GODMODE(passthrough, database=database)\n",
    "        else:\n",
    "            if table is not None:\n",
    "\n",
    "                self.drop_table(database=database, table=table)\n",
    "                return None\n",
    "            query = f\"DROP database {database};\"\n",
    "            print(f\"{query}\")\n",
    "            try:\n",
    "                self.cursor.execute(query)\n",
    "                print(\"executed\")\n",
    "\n",
    "            except mysql.connector.Error as err:\n",
    "                print(err)\n",
    "                if err.errno == errorcode.ER_DB_DROP_EXISTS:\n",
    "                    print(\"Database doesnt exists\")\n",
    "\n",
    "#         self.cnx.close()\n",
    "\n",
    "    def ALTER_TABLE(\n",
    "        self, database, table=None, columns=None, modifier=None, passthrough=None\n",
    "    ):\n",
    "        \"\"\"GENERAL Purpose ALTER TABLE Operation\n",
    "        example:\n",
    "            ALTER_TABLE('Classes',table='Courses',columns={'course_name':'varchar(50)'},modifier='modify')\"\"\"\n",
    "        if passthrough is not None:\n",
    "            self.GODMODE(passthrough, database=database)\n",
    "        else:\n",
    "            query = f\"ALTER TABLE {table}\"\n",
    "            self.cnx.database = database\n",
    "            if type(columns) == dict:\n",
    "                col = \"\"\n",
    "                for key in columns.keys():\n",
    "                    col = col + f\" {modifier} {key} {columns[key]},\"\n",
    "                col = col[:-1]\n",
    "\n",
    "            elif type(columns) == list or type(columns) == tuple:\n",
    "                col = \"\"\n",
    "                for key in columns:\n",
    "                    col = col + f\" {modifier} {key},\"\n",
    "                col = col[:-1]\n",
    "            else:\n",
    "                col = f\" {modifier} {columns};\"\n",
    "            query = query + col\n",
    "            print(f\"{query}\")\n",
    "            try:\n",
    "                self.cursor.execute(query)\n",
    "                print(\"executed\")\n",
    "\n",
    "            except mysql.connector.Error as err:\n",
    "                print(err)\n",
    "\n",
    "#             self.cnx.close()\n",
    "\n",
    "    def SELECT(self, database, query=None):\n",
    "        \"\"\"General Purpose SELECT Operation\n",
    "        example:\n",
    "            SELECT(database  = 'Classes', query = 'Select * from courses where course_name = \"DBMS\"')\"\"\"\n",
    "#         self.cnx.reconnect()\n",
    "        self.cnx.database = database\n",
    "        print(f\"{query}\")\n",
    "        try:\n",
    "            self.cursor.execute(query)\n",
    "            print(\"executed\")\n",
    "            col = self.cursor.column_names\n",
    "            print(self.cursor.column_names)\n",
    "            for col in self.cursor:\n",
    "                print(col)\n",
    "\n",
    "        except mysql.connector.Error as err:\n",
    "            print(err)\n",
    "#         self.cnx.close()\n",
    "\n",
    "    def INSERT(self, database, table=None, values=None, passthrough=None):\n",
    "        \"\"\"General Purpose INSERT Operation\n",
    "        example:\n",
    "            INSERT(database = \"Classes\",table = 'Courses',values = ((\"DBMS,'DSE-312'\"),('DSML','DSE-302'),('ALGORITHMS','DSE-304')))\n",
    "            \n",
    "            INSERT(database = \"Classes\",table = 'Courses',values = (\"DBMS\",'DSE-312'))\"\"\"\n",
    "        if passthrough is not None:\n",
    "            self.GODMODE(passthrough, database=database)\n",
    "        else:\n",
    "            self.cnx.database = database\n",
    "\n",
    "            self.cursor.execute(f\"select * from {table} limit 1\")\n",
    "            col_names = self.cursor.column_names\n",
    "\n",
    "            col_name = \"\"\n",
    "            for cname in col_names:\n",
    "                col_name += f\" {cname},\"\n",
    "#             print(col_name[0:-1])\n",
    "            query = f\"INSERT INTO {table} ({col_name[0:-1]}) VALUES \"\n",
    "            if any(isinstance(i, list) or isinstance(i, tuple) for i in values):\n",
    "                if len(values[0]) == 1:\n",
    "                    for val in values:\n",
    "                        query = query + f\"({val[0]}),\"\n",
    "                else:\n",
    "                    for val in values:\n",
    "                        query = query + f\"{val},\"\n",
    "\n",
    "            else:\n",
    "                if len(values) == 1:\n",
    "                    for val in values:\n",
    "                        query = query + f\"({val}),\"\n",
    "                else:\n",
    "                    query = query + f\"{values},\"\n",
    "\n",
    "            query = query[0:-1]\n",
    "            print(query)\n",
    "            try:\n",
    "                self.cursor.execute(query)\n",
    "                print(\"executed\")\n",
    "\n",
    "            except mysql.connector.Error as err:\n",
    "                print(err)\n",
    "\n",
    "        self.cnx.commit()\n",
    "#         self.cnx.close()\n",
    "\n",
    "    def UPDATE(self, database, table=None, columns=None, where=None, passthrough=None):\n",
    "        \"\"\"UPDATE Operation\n",
    "        example:\n",
    "            UPDATE(database = 'Classes',table = 'Courses',columns = {'course_id':'DSE-310'},where = 'where course_name = \"DBMS\"')\"\"\"\n",
    "        self.cnx.database = database\n",
    "        if passthrough is not None:\n",
    "            self.GODMODE(passthrough, database=database)\n",
    "        else:\n",
    "            query = f\"UPDATE {table} set \"\n",
    "            col = \"\"\n",
    "            for key in columns.keys():\n",
    "                col = col + f' {key} = \"{columns[key]}\",'\n",
    "            col = col[0:-1]\n",
    "            col = col + \" \" + where\n",
    "            query = query + col + \";\"\n",
    "            print(query)\n",
    "            try:\n",
    "                self.cursor.execute(query)\n",
    "                print(\"executed\")\n",
    "            except mysql.connector.Error as err:\n",
    "                print(err)\n",
    "        self.cnx.commit()\n",
    "#         self.cnx.close()\n",
    "\n",
    "    def NOTNULL(self, database, table=None, columns=None, passthrough=None):\n",
    "        \"\"\"Make a column NOT NULL\n",
    "        example:\n",
    "            NOTNULL(database = \"Classes\",table = \"Courses\",columns = {'course_name':'varchar(30)','course_id':'varchar(7)'})\"\"\"\n",
    "        if passthrough is not None:\n",
    "            self.GODMODE(passthrough, database=database)\n",
    "        else:\n",
    "            for key in columns.keys():\n",
    "                columns[key] = f\"{columns[key]} NOT NULL\"\n",
    "            #             print(columns)a\n",
    "            self.ALTER_TABLE(\n",
    "                database, table, columns, modifier=\"modify\", passthrough=None\n",
    "            )\n",
    "        self.cnx.commit()\n",
    "#         self.cnx.close()\n",
    "\n",
    "    def PRIMARY_KEY(\n",
    "        self, database, table=None, columns=None, constraint_name=None, passthrough=None\n",
    "    ):\n",
    "        \"\"\"Define a PRIMARY KEY\n",
    "        example:\n",
    "            PRIMARY_KEY(database = 'Classes',table = 'Courses',columns = ('course_id'))\"\"\"\n",
    "        if passthrough is not None:\n",
    "            self.GODMODE(passthrough, database=database)\n",
    "        else:\n",
    "\n",
    "            print(columns)\n",
    "            query = f\"ALTER TABLE {table} ADD \"\n",
    "            if constraint_name is not None:\n",
    "                query += f\"CONSTRAINT {constraint_name} \"\n",
    "            query += \"PRIMARY KEY (\"\n",
    "            if type(columns) == str:\n",
    "                query = query + f\"{columns})\"\n",
    "\n",
    "            else:\n",
    "                if len(columns) == 1:\n",
    "                    query = query + f\"{columns[0]}, \"\n",
    "                #                     print('here',query)\n",
    "                else:\n",
    "                    for col in columns:\n",
    "                        query = query + f\"{col}, \"\n",
    "                query = query[0:-2] + \")\"\n",
    "            print(query)\n",
    "            self.ALTER_TABLE(database, passthrough=query)\n",
    "\n",
    "    def FOREIGN_KEY(\n",
    "        self, database, table=None, columns=None, constraint_name=None, passthrough=None\n",
    "    ):\n",
    "        \"\"\"Define a FOREIGN KEY\n",
    "        example:\n",
    "            CREATE(database = \"Classes\",table='instructor', columns={'inst_id' :'int not null','course_id' :'varchar(7)'})\n",
    "            PRIMARY_KEY(database = 'Classes',table = 'instructor',columns = ('inst_id'))      \n",
    "            FOREIGN_KEY(database = \"Classes\",table = \"instructor\", columns = {\"Courses\": \"course_id\"}, constraint_name = {'Courses':\"cid_fkey\"})\n",
    "        \"\"\"\n",
    "        if passthrough is not None:\n",
    "            self.GODMODE(passthrough, database=database)\n",
    "        else:\n",
    "            print(columns)\n",
    "            query = f\"ALTER TABLE {table}\"\n",
    "\n",
    "            #             query+='FOREIGN KEY ('\n",
    "            for key in columns.keys():\n",
    "                query += \" ADD\"\n",
    "                if constraint_name[key] is not None:\n",
    "                    query += f\" CONSTRAINT {constraint_name[key]}\"\n",
    "\n",
    "                query += \" FOREIGN KEY (\"\n",
    "                q = \"\"\n",
    "                if type(columns[key]) is not str:\n",
    "                    for val in columns[key]:\n",
    "                        q = q + f\"{val}, \"\n",
    "                    q = q[0:-2]\n",
    "                else:\n",
    "                    q = q + f\"{columns[key]}\"\n",
    "                print(q)\n",
    "                query = query + q + \") REFERENCES \"\n",
    "\n",
    "                query = query + f\"{key} ({q}), \"\n",
    "            query = query[0:-2]\n",
    "            print(query)\n",
    "            self.ALTER_TABLE(database, passthrough=query)\n",
    "\n",
    "    def new_user(self, user_name, user_pwd, ip=\"localhost\"):\n",
    "        \"\"\"example:\n",
    "            new_user(user_name='test_user1',user_pwd='test_user_pwd')\"\"\"\n",
    "        query = f'CREATE USER {user_name}@{ip} IDENTIFIED BY \"{user_pwd}\";'\n",
    "        print(query)\n",
    "        self.GODMODE(passthrough=query)\n",
    "\n",
    "    def drop_user(self, user_name, ip=\"localhost\"):\n",
    "        query = f\"DROP USER\"\n",
    "        if type(user_name) is dict:\n",
    "            for name, ip in zip(user_name.keys(), user_name.values()):\n",
    "                query += f\" {name}@{ip}, \"\n",
    "            query = query[0:-2]\n",
    "        elif type(user_name) is not str:\n",
    "            for name in user_name:\n",
    "                query += f\" {name}@{ip}, \"\n",
    "            query = query[0:-2]\n",
    "        else:\n",
    "            query += f\" {user_name}@{ip}\"\n",
    "        print(query)\n",
    "        self.GODMODE(passthrough=query)\n",
    "\n",
    "    def grant_priv(\n",
    "        self, user_name, privlage=None, database=None, table=None, ip=\"localhost\"\n",
    "    ):\n",
    "        \"\"\"GRANT privlages to user@ip\n",
    "        privalge : ['ALL','SELECT','INSERT','UPDATE', ...]\n",
    "                    to see full list goto. (https://dev.mysql.com/doc/refman/8.0/en/privileges-provided.html)\n",
    "        example:\n",
    "            grant_priv(user_name='test_user1',privlage='ALL',database='Classes')\"\"\"\n",
    "        priv = \", \".join(privlage) if type(privlage) is not str else privlage\n",
    "        database = \"*\" if database is None else database\n",
    "        table = \"*\" if table is None else table\n",
    "        query = f\"GRANT {priv} ON {database}.{table} TO {user_name}@{ip}\"\n",
    "        print(query)\n",
    "        self.GODMODE(passthrough=query)\n",
    "\n",
    "    def revoke_priv(\n",
    "        self, user_name, revoke=None, database=None, table=None, ip=\"localhost\"\n",
    "    ):\n",
    "        \"\"\"REVOKE privlage from user@ip\n",
    "        see (https://dev.mysql.com/doc/refman/8.0/en/privileges-provided.html) to find all privlages\n",
    "        example:\n",
    "            revoke_priv(user_name='test_user1',revoke='SELECT')\"\"\"\n",
    "        rev = \", \".join(revoke) if type(revoke) is not str else revoke\n",
    "        database = \"*\" if database is None else database\n",
    "        table = \"*\" if table is None else table\n",
    "        query = f\"REVOKE {rev} ON {database}.{table} FROM {user_name}@{ip}\"\n",
    "        print(query)\n",
    "        self.GODMODE(passthrough=query)\n",
    "    def reconnect(self):\n",
    "        self.__init__()\n",
    "\n",
    "# Connections().connect().USERS().new_user('akj1','AKJ')\n",
    "\n",
    "# if __name__=='__main__':\n",
    "#     Connections()"
   ]
  },
  {
   "cell_type": "markdown",
   "id": "0e4efe98-7b12-4214-b6ed-aed275e51c74",
   "metadata": {},
   "source": [
    "### SOME EXAMPLES:"
   ]
  },
  {
   "cell_type": "code",
   "execution_count": 25,
   "id": "3ad9fc69-fa80-42ee-8749-334af1fcd77a",
   "metadata": {},
   "outputs": [],
   "source": [
    "cfg = {\n",
    "    \"user\": \"root\",\n",
    "    \"password\": \"khadga19@mysql\", # Your password\n",
    "    \"host\": \"localhost\",\n",
    "    \"database\": None,\n",
    "    \"raise_on_warnings\": True,\n",
    "}\n",
    "test_usr_config = {\n",
    "    \"user\": \"test_user1\",\n",
    "    \"password\": \"test_user_pwd\",\n",
    "    \"host\": \"localhost\",\n",
    "    \"database\": None,\n",
    "    \"raise_on_warnings\": True,\n",
    "}"
   ]
  },
  {
   "cell_type": "code",
   "execution_count": 26,
   "id": "8c6c1b73-fd14-40a5-aea5-cf0128622b7d",
   "metadata": {},
   "outputs": [
    {
     "name": "stdout",
     "output_type": "stream",
     "text": [
      "OK\n"
     ]
    }
   ],
   "source": [
    "con = Connections(cfg)"
   ]
  },
  {
   "cell_type": "code",
   "execution_count": 27,
   "id": "326c1b3b-989e-4a55-b20d-2057db833c4f",
   "metadata": {},
   "outputs": [
    {
     "name": "stdout",
     "output_type": "stream",
     "text": [
      "Create database Classes;\n",
      "executed\n",
      "Create table Courses(course_name varchar(25),Course_id varchar(7));\n",
      "executed\n"
     ]
    }
   ],
   "source": [
    "con.CREATE(database = \"Classes\",table = \"Courses\",columns = {'course_name':'varchar(25)','Course_id':'varchar(7)'})"
   ]
  },
  {
   "cell_type": "code",
   "execution_count": 28,
   "id": "926784a6-8b1f-4a1a-9f04-f8ebafd1f6df",
   "metadata": {},
   "outputs": [
    {
     "name": "stdout",
     "output_type": "stream",
     "text": [
      "INSERT INTO Courses ( course_name, Course_id) VALUES ('DSML', 'DSE-302'),('ALGORITHMS', 'DSE-304')\n",
      "executed\n"
     ]
    }
   ],
   "source": [
    "con.INSERT(database = \"Classes\",table = 'Courses',values = (('DSML','DSE-302'),('ALGORITHMS','DSE-304')))"
   ]
  },
  {
   "cell_type": "code",
   "execution_count": 29,
   "id": "b378b69b-812c-4ca6-99b2-bb462f1c991b",
   "metadata": {},
   "outputs": [
    {
     "name": "stdout",
     "output_type": "stream",
     "text": [
      "Select * from courses \n",
      "executed\n",
      "('course_name', 'Course_id')\n",
      "('DSML', 'DSE-302')\n",
      "('ALGORITHMS', 'DSE-304')\n"
     ]
    }
   ],
   "source": [
    "con.SELECT(database  = 'Classes', query = 'Select * from courses ')"
   ]
  },
  {
   "cell_type": "code",
   "execution_count": 30,
   "id": "f283d1af-b31d-4faf-b689-e848516b9f3a",
   "metadata": {},
   "outputs": [
    {
     "name": "stdout",
     "output_type": "stream",
     "text": [
      "INSERT INTO Courses ( course_name, Course_id) VALUES ('DBMS', 'DSE-312')\n",
      "executed\n"
     ]
    }
   ],
   "source": [
    "con.INSERT(database = \"Classes\",table = 'Courses',values = (\"DBMS\",'DSE-312'))"
   ]
  },
  {
   "cell_type": "code",
   "execution_count": 31,
   "id": "1ae895ee-da0e-4a57-99e7-ce82cd57b917",
   "metadata": {},
   "outputs": [
    {
     "name": "stdout",
     "output_type": "stream",
     "text": [
      "Select * from courses \n",
      "executed\n",
      "('course_name', 'Course_id')\n",
      "('DSML', 'DSE-302')\n",
      "('ALGORITHMS', 'DSE-304')\n",
      "('DBMS', 'DSE-312')\n"
     ]
    }
   ],
   "source": [
    "con.SELECT(database  = 'Classes', query = 'Select * from courses ')"
   ]
  },
  {
   "cell_type": "code",
   "execution_count": 32,
   "id": "e83f2917-fa98-4b91-87c7-309f18e83387",
   "metadata": {},
   "outputs": [
    {
     "name": "stdout",
     "output_type": "stream",
     "text": [
      "UPDATE Courses set  course_id = \"DSE-310\" where course_name = \"DBMS\";\n",
      "executed\n"
     ]
    }
   ],
   "source": [
    "con.UPDATE(database = 'Classes',table = 'Courses',columns = {'course_id':'DSE-310'},where = 'where course_name = \"DBMS\"')"
   ]
  },
  {
   "cell_type": "code",
   "execution_count": 33,
   "id": "59d635fa-465e-4cd7-bdb2-bdc08b012d37",
   "metadata": {},
   "outputs": [
    {
     "name": "stdout",
     "output_type": "stream",
     "text": [
      "Select * from courses where course_name = \"DBMS\"\n",
      "executed\n",
      "('course_name', 'Course_id')\n",
      "('DBMS', 'DSE-310')\n"
     ]
    }
   ],
   "source": [
    "con.SELECT(database  = 'Classes', query = 'Select * from courses where course_name = \"DBMS\"')"
   ]
  },
  {
   "cell_type": "code",
   "execution_count": 34,
   "id": "587a1cc9-c111-491e-bb50-ba3f55e819b8",
   "metadata": {},
   "outputs": [
    {
     "name": "stdout",
     "output_type": "stream",
     "text": [
      "ALTER TABLE Courses modify course_name varchar(50)\n",
      "executed\n"
     ]
    }
   ],
   "source": [
    "con.ALTER_TABLE('Classes',table='Courses',columns={'course_name':'varchar(50)'},modifier='modify')"
   ]
  },
  {
   "cell_type": "code",
   "execution_count": 35,
   "id": "d88c78ba-6adc-4ee5-ad0a-2612bfe305b8",
   "metadata": {},
   "outputs": [
    {
     "name": "stdout",
     "output_type": "stream",
     "text": [
      "ALTER TABLE Courses modify course_name varchar(50) NOT NULL, modify course_id varchar(7) NOT NULL\n",
      "executed\n"
     ]
    }
   ],
   "source": [
    "con.NOTNULL(database = \"Classes\",table = \"Courses\",columns = {'course_name':'varchar(50)','course_id':'varchar(7)'})"
   ]
  },
  {
   "cell_type": "code",
   "execution_count": 36,
   "id": "fb5a993d-de9b-47de-8d49-b16cebaf6779",
   "metadata": {},
   "outputs": [
    {
     "name": "stdout",
     "output_type": "stream",
     "text": [
      "course_id\n",
      "ALTER TABLE Courses ADD PRIMARY KEY (course_id)\n",
      "executed\n"
     ]
    }
   ],
   "source": [
    "con.PRIMARY_KEY(database = 'Classes',table = 'Courses',columns = ('course_id'))"
   ]
  },
  {
   "cell_type": "code",
   "execution_count": 37,
   "id": "259076d6-b312-4631-9269-d0c8ac15870d",
   "metadata": {},
   "outputs": [
    {
     "name": "stdout",
     "output_type": "stream",
     "text": [
      "Create database Classes;\n",
      "1007 (HY000): Can't create database 'classes'; database exists\n",
      "Already exists\n",
      "Create table instructor(inst_id int not null,course_id varchar(7));\n",
      "executed\n",
      "inst_id\n",
      "ALTER TABLE instructor ADD PRIMARY KEY (inst_id)\n",
      "executed\n",
      "{'Courses': 'course_id'}\n",
      "course_id\n",
      "ALTER TABLE instructor ADD CONSTRAINT cid_fkey FOREIGN KEY (course_id) REFERENCES Courses (course_id)\n",
      "executed\n"
     ]
    }
   ],
   "source": [
    "con.CREATE(database = \"Classes\",table='instructor', columns={'inst_id' :'int not null','course_id' :'varchar(7)'})\n",
    "con.PRIMARY_KEY(database = 'Classes',table = 'instructor',columns = ('inst_id'))        \n",
    "con.FOREIGN_KEY(database = \"Classes\",table = \"instructor\", columns = {\"Courses\": \"course_id\"}, constraint_name = {'Courses':\"cid_fkey\"})"
   ]
  },
  {
   "cell_type": "code",
   "execution_count": 38,
   "id": "a9b07d34-22d2-4164-be84-02555e578390",
   "metadata": {},
   "outputs": [
    {
     "name": "stdout",
     "output_type": "stream",
     "text": [
      "CREATE USER test_user1@localhost IDENTIFIED BY \"test_user_pwd\";\n",
      "executed\n"
     ]
    }
   ],
   "source": [
    "con.new_user(user_name='test_user1',user_pwd='test_user_pwd')"
   ]
  },
  {
   "cell_type": "code",
   "execution_count": 39,
   "id": "644201b4-6894-4e54-996d-37531142f9d5",
   "metadata": {},
   "outputs": [
    {
     "name": "stdout",
     "output_type": "stream",
     "text": [
      "GRANT ALL ON Classes.* TO test_user1@localhost\n",
      "executed\n"
     ]
    }
   ],
   "source": [
    "con.grant_priv(user_name='test_user1',privlage='ALL',database='Classes')"
   ]
  },
  {
   "cell_type": "code",
   "execution_count": 43,
   "id": "b4dce22a-6971-4df9-86d1-6ec8dac9d69c",
   "metadata": {},
   "outputs": [
    {
     "name": "stdout",
     "output_type": "stream",
     "text": [
      "UPDATE Courses set  course_id = \"DSE-315\" where course_name = \"DBMS\";\n",
      "executed\n"
     ]
    }
   ],
   "source": [
    "con2.UPDATE(database = 'Classes',table = 'Courses',columns = {'course_id':'DSE-315'},where = 'where course_name = \"DBMS\"')"
   ]
  },
  {
   "cell_type": "code",
   "execution_count": 44,
   "id": "587487bd-8552-4c84-9827-ad3474ca85b8",
   "metadata": {},
   "outputs": [
    {
     "name": "stdout",
     "output_type": "stream",
     "text": [
      "SELECT * from courses\n",
      "executed\n",
      "('course_name', 'course_id')\n",
      "('DSML', 'DSE-302')\n",
      "('ALGORITHMS', 'DSE-304')\n",
      "('DBMS', 'DSE-315')\n"
     ]
    }
   ],
   "source": [
    "con2.SELECT(database='Classes',query = 'SELECT * from courses')"
   ]
  },
  {
   "cell_type": "code",
   "execution_count": 46,
   "id": "86fae6ee-9e64-4040-89e5-f448149d9efd",
   "metadata": {},
   "outputs": [
    {
     "ename": "KeyboardInterrupt",
     "evalue": "Interrupted by user",
     "output_type": "error",
     "traceback": [
      "\u001b[1;31m---------------------------------------------------------------------------\u001b[0m",
      "\u001b[1;31mKeyboardInterrupt\u001b[0m                         Traceback (most recent call last)",
      "\u001b[1;32m~\\AppData\\Local\\Temp\\ipykernel_18888\\3395748172.py\u001b[0m in \u001b[0;36m<cell line: 1>\u001b[1;34m()\u001b[0m\n\u001b[1;32m----> 1\u001b[1;33m \u001b[0mcon2\u001b[0m\u001b[1;33m.\u001b[0m\u001b[0mreconnect\u001b[0m\u001b[1;33m(\u001b[0m\u001b[1;33m)\u001b[0m\u001b[1;33m\u001b[0m\u001b[1;33m\u001b[0m\u001b[0m\n\u001b[0m",
      "\u001b[1;32m~\\AppData\\Local\\Temp\\ipykernel_18888\\756229495.py\u001b[0m in \u001b[0;36mreconnect\u001b[1;34m(self)\u001b[0m\n\u001b[0;32m    430\u001b[0m         \u001b[0mself\u001b[0m\u001b[1;33m.\u001b[0m\u001b[0mGODMODE\u001b[0m\u001b[1;33m(\u001b[0m\u001b[0mpassthrough\u001b[0m\u001b[1;33m=\u001b[0m\u001b[0mquery\u001b[0m\u001b[1;33m)\u001b[0m\u001b[1;33m\u001b[0m\u001b[1;33m\u001b[0m\u001b[0m\n\u001b[0;32m    431\u001b[0m     \u001b[1;32mdef\u001b[0m \u001b[0mreconnect\u001b[0m\u001b[1;33m(\u001b[0m\u001b[0mself\u001b[0m\u001b[1;33m)\u001b[0m\u001b[1;33m:\u001b[0m\u001b[1;33m\u001b[0m\u001b[1;33m\u001b[0m\u001b[0m\n\u001b[1;32m--> 432\u001b[1;33m         \u001b[0mself\u001b[0m\u001b[1;33m.\u001b[0m\u001b[0m__init__\u001b[0m\u001b[1;33m(\u001b[0m\u001b[1;33m)\u001b[0m\u001b[1;33m\u001b[0m\u001b[1;33m\u001b[0m\u001b[0m\n\u001b[0m\u001b[0;32m    433\u001b[0m \u001b[1;33m\u001b[0m\u001b[0m\n\u001b[0;32m    434\u001b[0m \u001b[1;31m# Connections().connect().USERS().new_user('akj1','AKJ')\u001b[0m\u001b[1;33m\u001b[0m\u001b[1;33m\u001b[0m\u001b[1;33m\u001b[0m\u001b[0m\n",
      "\u001b[1;32m~\\AppData\\Local\\Temp\\ipykernel_18888\\756229495.py\u001b[0m in \u001b[0;36m__init__\u001b[1;34m(self, config)\u001b[0m\n\u001b[0;32m     17\u001b[0m             \u001b[0mself\u001b[0m\u001b[1;33m.\u001b[0m\u001b[0mconfig\u001b[0m \u001b[1;33m=\u001b[0m \u001b[0mconfig\u001b[0m\u001b[1;33m\u001b[0m\u001b[1;33m\u001b[0m\u001b[0m\n\u001b[0;32m     18\u001b[0m         \u001b[1;32melse\u001b[0m\u001b[1;33m:\u001b[0m\u001b[1;33m\u001b[0m\u001b[1;33m\u001b[0m\u001b[0m\n\u001b[1;32m---> 19\u001b[1;33m             \u001b[0muser\u001b[0m \u001b[1;33m=\u001b[0m \u001b[0mstr\u001b[0m\u001b[1;33m(\u001b[0m\u001b[0minput\u001b[0m\u001b[1;33m(\u001b[0m\u001b[1;34m\"use default (root@localhost)(Y/N): \"\u001b[0m\u001b[1;33m)\u001b[0m\u001b[1;33m)\u001b[0m\u001b[1;33m\u001b[0m\u001b[1;33m\u001b[0m\u001b[0m\n\u001b[0m\u001b[0;32m     20\u001b[0m             \u001b[1;32mif\u001b[0m \u001b[0muser\u001b[0m\u001b[1;33m.\u001b[0m\u001b[0mlower\u001b[0m\u001b[1;33m(\u001b[0m\u001b[1;33m)\u001b[0m \u001b[1;32min\u001b[0m \u001b[1;33m[\u001b[0m\u001b[1;34m\"y\"\u001b[0m\u001b[1;33m,\u001b[0m \u001b[1;34m\"yes\"\u001b[0m\u001b[1;33m]\u001b[0m\u001b[1;33m:\u001b[0m\u001b[1;33m\u001b[0m\u001b[1;33m\u001b[0m\u001b[0m\n\u001b[0;32m     21\u001b[0m                 self.config = {\n",
      "\u001b[1;32m~\\anaconda3\\lib\\site-packages\\ipykernel\\kernelbase.py\u001b[0m in \u001b[0;36mraw_input\u001b[1;34m(self, prompt)\u001b[0m\n\u001b[0;32m   1150\u001b[0m                 \u001b[1;34m\"raw_input was called, but this frontend does not support input requests.\"\u001b[0m\u001b[1;33m\u001b[0m\u001b[1;33m\u001b[0m\u001b[0m\n\u001b[0;32m   1151\u001b[0m             )\n\u001b[1;32m-> 1152\u001b[1;33m         return self._input_request(\n\u001b[0m\u001b[0;32m   1153\u001b[0m             \u001b[0mstr\u001b[0m\u001b[1;33m(\u001b[0m\u001b[0mprompt\u001b[0m\u001b[1;33m)\u001b[0m\u001b[1;33m,\u001b[0m\u001b[1;33m\u001b[0m\u001b[1;33m\u001b[0m\u001b[0m\n\u001b[0;32m   1154\u001b[0m             \u001b[0mself\u001b[0m\u001b[1;33m.\u001b[0m\u001b[0m_parent_ident\u001b[0m\u001b[1;33m[\u001b[0m\u001b[1;34m\"shell\"\u001b[0m\u001b[1;33m]\u001b[0m\u001b[1;33m,\u001b[0m\u001b[1;33m\u001b[0m\u001b[1;33m\u001b[0m\u001b[0m\n",
      "\u001b[1;32m~\\anaconda3\\lib\\site-packages\\ipykernel\\kernelbase.py\u001b[0m in \u001b[0;36m_input_request\u001b[1;34m(self, prompt, ident, parent, password)\u001b[0m\n\u001b[0;32m   1192\u001b[0m             \u001b[1;32mexcept\u001b[0m \u001b[0mKeyboardInterrupt\u001b[0m\u001b[1;33m:\u001b[0m\u001b[1;33m\u001b[0m\u001b[1;33m\u001b[0m\u001b[0m\n\u001b[0;32m   1193\u001b[0m                 \u001b[1;31m# re-raise KeyboardInterrupt, to truncate traceback\u001b[0m\u001b[1;33m\u001b[0m\u001b[1;33m\u001b[0m\u001b[1;33m\u001b[0m\u001b[0m\n\u001b[1;32m-> 1194\u001b[1;33m                 \u001b[1;32mraise\u001b[0m \u001b[0mKeyboardInterrupt\u001b[0m\u001b[1;33m(\u001b[0m\u001b[1;34m\"Interrupted by user\"\u001b[0m\u001b[1;33m)\u001b[0m \u001b[1;32mfrom\u001b[0m \u001b[1;32mNone\u001b[0m\u001b[1;33m\u001b[0m\u001b[1;33m\u001b[0m\u001b[0m\n\u001b[0m\u001b[0;32m   1195\u001b[0m             \u001b[1;32mexcept\u001b[0m \u001b[0mException\u001b[0m\u001b[1;33m:\u001b[0m\u001b[1;33m\u001b[0m\u001b[1;33m\u001b[0m\u001b[0m\n\u001b[0;32m   1196\u001b[0m                 \u001b[0mself\u001b[0m\u001b[1;33m.\u001b[0m\u001b[0mlog\u001b[0m\u001b[1;33m.\u001b[0m\u001b[0mwarning\u001b[0m\u001b[1;33m(\u001b[0m\u001b[1;34m\"Invalid Message:\"\u001b[0m\u001b[1;33m,\u001b[0m \u001b[0mexc_info\u001b[0m\u001b[1;33m=\u001b[0m\u001b[1;32mTrue\u001b[0m\u001b[1;33m)\u001b[0m\u001b[1;33m\u001b[0m\u001b[1;33m\u001b[0m\u001b[0m\n",
      "\u001b[1;31mKeyboardInterrupt\u001b[0m: Interrupted by user"
     ]
    }
   ],
   "source": [
    "con2.reconnect()"
   ]
  },
  {
   "cell_type": "code",
   "execution_count": 49,
   "id": "c685f062-cdf7-41ca-a8d4-58be19f20747",
   "metadata": {},
   "outputs": [
    {
     "name": "stdout",
     "output_type": "stream",
     "text": [
      "OK\n"
     ]
    }
   ],
   "source": [
    "con = Connections(cfg)"
   ]
  },
  {
   "cell_type": "code",
   "execution_count": 40,
   "id": "e1b2e7e9-e3bf-4a44-bc9f-761b8e3002df",
   "metadata": {},
   "outputs": [],
   "source": [
    "# cfg_test_usr = con2.get_config()"
   ]
  },
  {
   "cell_type": "code",
   "execution_count": 50,
   "id": "bbad6dc9-095d-4156-b27a-704426409e93",
   "metadata": {},
   "outputs": [
    {
     "name": "stdout",
     "output_type": "stream",
     "text": [
      "SELECT * from courses\n",
      "executed\n",
      "('course_name', 'course_id')\n",
      "('DSML', 'DSE-302')\n",
      "('ALGORITHMS', 'DSE-304')\n",
      "('DBMS', 'DSE-315')\n"
     ]
    }
   ],
   "source": [
    "con.SELECT(database='Classes',query = 'SELECT * from courses')"
   ]
  },
  {
   "cell_type": "code",
   "execution_count": 42,
   "id": "caca1855-3f42-4d8d-af06-56eae4eb24f7",
   "metadata": {},
   "outputs": [
    {
     "name": "stdout",
     "output_type": "stream",
     "text": [
      "OK\n"
     ]
    }
   ],
   "source": [
    "con2 = Connections(test_usr_config)"
   ]
  },
  {
   "cell_type": "code",
   "execution_count": null,
   "id": "9f0f9add-c142-4a16-be46-236ac87c0902",
   "metadata": {},
   "outputs": [],
   "source": []
  },
  {
   "cell_type": "code",
   "execution_count": null,
   "id": "5571e577-2443-43dc-a4df-aa699e1cadab",
   "metadata": {},
   "outputs": [],
   "source": []
  },
  {
   "cell_type": "code",
   "execution_count": null,
   "id": "e32fe709-df7a-4f23-ae51-3e34c9e5da9e",
   "metadata": {},
   "outputs": [],
   "source": []
  },
  {
   "cell_type": "code",
   "execution_count": null,
   "id": "b2c8f034-5764-460d-8f49-c01644c861c3",
   "metadata": {},
   "outputs": [],
   "source": []
  },
  {
   "cell_type": "code",
   "execution_count": 20,
   "id": "edb76fc3-ba71-4b81-9d06-0dbcae876cf5",
   "metadata": {},
   "outputs": [
    {
     "name": "stdout",
     "output_type": "stream",
     "text": [
      "REVOKE ALL ON *.* FROM test_user1@localhost\n",
      "executed\n"
     ]
    }
   ],
   "source": [
    "con.revoke_priv(user_name='test_user1',revoke='ALL')"
   ]
  },
  {
   "cell_type": "code",
   "execution_count": 21,
   "id": "52db7230-3280-486c-a57a-fb6368d71ff4",
   "metadata": {},
   "outputs": [
    {
     "name": "stdout",
     "output_type": "stream",
     "text": [
      "OK\n"
     ]
    }
   ],
   "source": [
    "con2 = Connections(test_usr_config)\n"
   ]
  },
  {
   "cell_type": "code",
   "execution_count": 22,
   "id": "76a0ccfa-5c57-4242-99ca-3135c2802120",
   "metadata": {},
   "outputs": [
    {
     "ename": "MySQLInterfaceError",
     "evalue": "Access denied for user 'test_user1'@'localhost' to database 'classes'",
     "output_type": "error",
     "traceback": [
      "\u001b[1;31m---------------------------------------------------------------------------\u001b[0m",
      "\u001b[1;31mMySQLInterfaceError\u001b[0m                       Traceback (most recent call last)",
      "\u001b[1;32m~\\AppData\\Local\\Temp\\ipykernel_18888\\368682657.py\u001b[0m in \u001b[0;36m<cell line: 1>\u001b[1;34m()\u001b[0m\n\u001b[1;32m----> 1\u001b[1;33m \u001b[0mcon2\u001b[0m\u001b[1;33m.\u001b[0m\u001b[0mSELECT\u001b[0m\u001b[1;33m(\u001b[0m\u001b[0mdatabase\u001b[0m\u001b[1;33m=\u001b[0m\u001b[1;34m'Classes'\u001b[0m\u001b[1;33m,\u001b[0m\u001b[0mquery\u001b[0m \u001b[1;33m=\u001b[0m \u001b[1;34m'SELECT * from courses'\u001b[0m\u001b[1;33m)\u001b[0m\u001b[1;33m\u001b[0m\u001b[1;33m\u001b[0m\u001b[0m\n\u001b[0m",
      "\u001b[1;32m~\\AppData\\Local\\Temp\\ipykernel_18888\\756229495.py\u001b[0m in \u001b[0;36mSELECT\u001b[1;34m(self, database, query)\u001b[0m\n\u001b[0;32m    213\u001b[0m             SELECT(database  = 'Classes', query = 'Select * from courses where course_name = \"DBMS\"')\"\"\"\n\u001b[0;32m    214\u001b[0m \u001b[1;31m#         self.cnx.reconnect()\u001b[0m\u001b[1;33m\u001b[0m\u001b[1;33m\u001b[0m\u001b[1;33m\u001b[0m\u001b[0m\n\u001b[1;32m--> 215\u001b[1;33m         \u001b[0mself\u001b[0m\u001b[1;33m.\u001b[0m\u001b[0mcnx\u001b[0m\u001b[1;33m.\u001b[0m\u001b[0mdatabase\u001b[0m \u001b[1;33m=\u001b[0m \u001b[0mdatabase\u001b[0m\u001b[1;33m\u001b[0m\u001b[1;33m\u001b[0m\u001b[0m\n\u001b[0m\u001b[0;32m    216\u001b[0m         \u001b[0mprint\u001b[0m\u001b[1;33m(\u001b[0m\u001b[1;34mf\"{query}\"\u001b[0m\u001b[1;33m)\u001b[0m\u001b[1;33m\u001b[0m\u001b[1;33m\u001b[0m\u001b[0m\n\u001b[0;32m    217\u001b[0m         \u001b[1;32mtry\u001b[0m\u001b[1;33m:\u001b[0m\u001b[1;33m\u001b[0m\u001b[1;33m\u001b[0m\u001b[0m\n",
      "\u001b[1;32m~\\anaconda3\\lib\\site-packages\\mysql\\connector\\connection_cext.py\u001b[0m in \u001b[0;36mdatabase\u001b[1;34m(self, value)\u001b[0m\n\u001b[0;32m    168\u001b[0m     \u001b[1;32mdef\u001b[0m \u001b[0mdatabase\u001b[0m\u001b[1;33m(\u001b[0m\u001b[0mself\u001b[0m\u001b[1;33m,\u001b[0m \u001b[0mvalue\u001b[0m\u001b[1;33m)\u001b[0m\u001b[1;33m:\u001b[0m  \u001b[1;31m# pylint: disable=W0221\u001b[0m\u001b[1;33m\u001b[0m\u001b[1;33m\u001b[0m\u001b[0m\n\u001b[0;32m    169\u001b[0m         \u001b[1;34m\"\"\"Set the current database\"\"\"\u001b[0m\u001b[1;33m\u001b[0m\u001b[1;33m\u001b[0m\u001b[0m\n\u001b[1;32m--> 170\u001b[1;33m         \u001b[0mself\u001b[0m\u001b[1;33m.\u001b[0m\u001b[0m_cmysql\u001b[0m\u001b[1;33m.\u001b[0m\u001b[0mselect_db\u001b[0m\u001b[1;33m(\u001b[0m\u001b[0mvalue\u001b[0m\u001b[1;33m)\u001b[0m\u001b[1;33m\u001b[0m\u001b[1;33m\u001b[0m\u001b[0m\n\u001b[0m\u001b[0;32m    171\u001b[0m \u001b[1;33m\u001b[0m\u001b[0m\n\u001b[0;32m    172\u001b[0m     \u001b[1;33m@\u001b[0m\u001b[0mproperty\u001b[0m\u001b[1;33m\u001b[0m\u001b[1;33m\u001b[0m\u001b[0m\n",
      "\u001b[1;31mMySQLInterfaceError\u001b[0m: Access denied for user 'test_user1'@'localhost' to database 'classes'"
     ]
    }
   ],
   "source": [
    "con2.SELECT(database='Classes',query = 'SELECT * from courses')"
   ]
  },
  {
   "cell_type": "code",
   "execution_count": 23,
   "id": "51f58724-14d5-4a22-a44e-5fea81acbc16",
   "metadata": {},
   "outputs": [
    {
     "name": "stdout",
     "output_type": "stream",
     "text": [
      "DROP USER test_user1@localhost\n",
      "executed\n"
     ]
    }
   ],
   "source": [
    "con.drop_user(user_name='test_user1') #RUN THIS"
   ]
  },
  {
   "cell_type": "code",
   "execution_count": 24,
   "id": "57b6da53-523d-4d23-b597-a1a07fb1785f",
   "metadata": {},
   "outputs": [
    {
     "name": "stdout",
     "output_type": "stream",
     "text": [
      "DROP database classes;\n",
      "executed\n"
     ]
    }
   ],
   "source": [
    "con.DROP(database = 'classes') #RUN THIS"
   ]
  },
  {
   "cell_type": "code",
   "execution_count": null,
   "id": "11263f5a-d8d8-4106-af8e-bad449f3d19d",
   "metadata": {},
   "outputs": [],
   "source": []
  },
  {
   "cell_type": "code",
   "execution_count": null,
   "id": "8f2a8a9e-e186-425b-8f29-9c988cdfcad7",
   "metadata": {},
   "outputs": [],
   "source": []
  }
 ],
 "metadata": {
  "kernelspec": {
   "display_name": "Python 3 (ipykernel)",
   "language": "python",
   "name": "python3"
  },
  "language_info": {
   "codemirror_mode": {
    "name": "ipython",
    "version": 3
   },
   "file_extension": ".py",
   "mimetype": "text/x-python",
   "name": "python",
   "nbconvert_exporter": "python",
   "pygments_lexer": "ipython3",
   "version": "3.8.8"
  }
 },
 "nbformat": 4,
 "nbformat_minor": 5
}
